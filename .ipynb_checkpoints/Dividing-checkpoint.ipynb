{
 "cells": [
  {
   "cell_type": "code",
   "execution_count": null,
   "metadata": {},
   "outputs": [],
   "source": [
    "import re\n",
    "\n",
    "# Read the document into a string\n",
    "with open('document.txt', 'r') as f:\n",
    "    document = f.read()\n",
    "\n",
    "\n"
   ]
  },
  {
   "cell_type": "code",
   "execution_count": null,
   "metadata": {},
   "outputs": [],
   "source": [
    "# Define a regular expression to match chapter headings\n",
    "chapter_regex = r'^Chapter [0-9]+: .*'\n",
    "\n",
    "# Split the document into chapters\n",
    "chapters = re.split(chapter_regex, document, flags=re.MULTILINE)[1:]\n",
    "\n",
    "# Extract the content of each chapter\n",
    "for i, chapter in enumerate(chapters):\n",
    "    # Find the start and end of the chapter\n",
    "    chapter_start = re.search(chapter_regex, document).start()\n",
    "    if i < len(chapters) - 1:\n",
    "        chapter_end = re.search(chapter_regex, chapters[i+1]).start()\n",
    "    else:\n",
    "        chapter_end = len(document)\n",
    "    \n",
    "    # Extract the content of the chapter\n",
    "    chapter_content = document[chapter_start:chapter_end].strip()\n",
    "    \n",
    "    # Save the chapter content to a file\n",
    "    filename = f'chapter_{i+1}.txt'\n",
    "    with open(filename, 'w') as f:\n",
    "        f.write(chapter_content)"
   ]
  }
 ],
 "metadata": {
  "kernelspec": {
   "display_name": "Python [conda env:Python3] *",
   "language": "python",
   "name": "conda-env-Python3-py"
  },
  "language_info": {
   "codemirror_mode": {
    "name": "ipython",
    "version": 3
   },
   "file_extension": ".py",
   "mimetype": "text/x-python",
   "name": "python",
   "nbconvert_exporter": "python",
   "pygments_lexer": "ipython3",
   "version": "3.9.15"
  }
 },
 "nbformat": 4,
 "nbformat_minor": 2
}
