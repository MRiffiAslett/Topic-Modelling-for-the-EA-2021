{
 "cells": [
  {
   "cell_type": "code",
   "execution_count": 10,
   "metadata": {},
   "outputs": [],
   "source": [
    "import pandas as pd\n",
    "import json\n",
    "import os\n",
    "def preprocess(x):\n",
    "    \n",
    "    # test\n",
    "    \n",
    "    parent_directory = os.path.abspath('.')\n",
    "\n",
    "    data_file_path = os.path.join(parent_directory, 'Data',x)\n",
    "\n",
    "    # Load the JSON\n",
    "    with open(data_file_path, 'r') as f:\n",
    "        data = f.read()\n",
    "        \n",
    "    df = pd.DataFrame(json.loads(data))\n",
    "    \n",
    "    # their is one instance where the date didn't show so we drop it\n",
    "    df.drop(df.loc[df['date'] == \"Date not found\"].index, inplace = True)\n",
    "    \n",
    "    df['content'] = df['content'].astype(str)\n",
    "    \n",
    "    # Convert the index of topic_distributions_df to a DatetimeIndex\n",
    "    df.index = pd.to_datetime(df['date'])\n",
    "    \n",
    "    # Convert the 'date' column to year-month periods\n",
    "    df['year-month'] = df.index.to_period('M')\n",
    "    \n",
    "    # Convert each year-month period to a timestamp and assign it to the 'Date (by month)' column\n",
    "    df['Date (by month)'] = df['year-month'].dt.to_timestamp()\n",
    "    \n",
    "    # Set the 'Date (by month)' column as the index of the DataFrame topic_distributions_df\n",
    "    df = df.set_index('Date (by month)')\n",
    "\n"
   ]
  },
  {
   "cell_type": "code",
   "execution_count": 11,
   "metadata": {},
   "outputs": [],
   "source": [
    "df = preprocess('articles.json')"
   ]
  },
  {
   "cell_type": "code",
   "execution_count": 12,
   "metadata": {},
   "outputs": [],
   "source": [
    "df"
   ]
  },
  {
   "cell_type": "code",
   "execution_count": null,
   "metadata": {},
   "outputs": [],
   "source": []
  }
 ],
 "metadata": {
  "kernelspec": {
   "display_name": "Python [conda env:Python3] *",
   "language": "python",
   "name": "conda-env-Python3-py"
  },
  "language_info": {
   "codemirror_mode": {
    "name": "ipython",
    "version": 3
   },
   "file_extension": ".py",
   "mimetype": "text/x-python",
   "name": "python",
   "nbconvert_exporter": "python",
   "pygments_lexer": "ipython3",
   "version": "3.9.15"
  }
 },
 "nbformat": 4,
 "nbformat_minor": 2
}
