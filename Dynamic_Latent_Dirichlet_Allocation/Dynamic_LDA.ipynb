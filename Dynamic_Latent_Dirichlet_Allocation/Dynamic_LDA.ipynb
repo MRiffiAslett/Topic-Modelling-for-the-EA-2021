{
 "cells": [
  {
   "cell_type": "markdown",
   "metadata": {},
   "source": [
    "# Latent_Dirichlet_Allocation"
   ]
  },
  {
   "cell_type": "code",
   "execution_count": null,
   "metadata": {},
   "outputs": [],
   "source": [
    "import os\n",
    "import sys\n",
    "\n",
    "parent_directory = os.path.abspath('..')\n",
    "sys.path.append(parent_directory)\n",
    "\n",
    "from gensim.test.utils import common_texts\n",
    "from gensim.corpora.dictionary import Dictionary\n",
    "from sklearn.model_selection import train_test_split\n",
    "from gensim.models import LdaModel\n",
    "from Preprocess import preprocess\n",
    "from Plot import plot_df\n",
    "\n",
    "# Run the preprocessing \n",
    "df = preprocess('Data/articles.json')\n",
    "\n",
    "from sklearn.model_selection import train_test_split\n",
    "from gensim import corpora\n",
    "\n",
    "\n",
    "# Creating the dictionary for the training corpus\n",
    "dictionary = corpora.Dictionary(df['content'])\n",
    "dictionary.filter_extremes(no_below=5, no_above=0.5)\n",
    "\n",
    "# Converting the training corpus to bag-of-words representation\n",
    "corpus = [dictionary.doc2bow(doc) for doc in df['content']]"
   ]
  },
  {
   "cell_type": "markdown",
   "metadata": {},
   "source": [
    "# Hyperparameter_Tuning"
   ]
  },
  {
   "cell_type": "code",
   "execution_count": 7,
   "metadata": {},
   "outputs": [
    {
     "name": "stdout",
     "output_type": "stream",
     "text": [
      "Best number of topics: 28\n",
      "Best alpha value: 0.01\n",
      "Best eta value: 0.0001\n"
     ]
    }
   ],
   "source": [
    "# Set up the parameter grid for tuning\n",
    "param_grid = {\n",
    "    'num_topics': [5, 10, 20, 28],  # Test different values for the number of topics\n",
    "    'alpha': [0.01, 0.1, 1.0],   # Test different values for alpha\n",
    "    'eta': [0.01, 0.1, 1.0]       # Test different values for beta (eta in Gensim)\n",
    "}\n",
    "\n",
    "# Perform grid search\n",
    "best_coherence = -1\n",
    "best_model = None\n",
    "\n",
    "for num_topics in param_grid['num_topics']:\n",
    "    for alpha in param_grid['alpha']:\n",
    "        for eta in param_grid['eta']:\n",
    "            # Train the LDA model\n",
    "            model = LdaModel(\n",
    "                corpus=corpus,\n",
    "                id2word=dictionary,\n",
    "                num_topics=num_topics,\n",
    "                alpha=alpha,\n",
    "                eta=eta,\n",
    "                random_state=42\n",
    "            )\n",
    "            \n",
    "            # Compute coherence score\n",
    "            coherence_model = gensim.models.CoherenceModel(model=model, texts= df['content'], dictionary=dictionary, coherence='c_v')\n",
    "            coherence = coherence_model.get_coherence()\n",
    "            \n",
    "            # Check if this model has the highest coherence so far\n",
    "            if coherence > best_coherence:\n",
    "                best_coherence = coherence\n",
    "                best_model = model\n",
    "\n",
    "# Get the best parameters\n",
    "best_num_topics = best_model.num_topics\n",
    "best_alpha = best_model.alpha\n",
    "best_eta = best_model.eta\n",
    "\n",
    "\n",
    "print(\"Best number of topics:\", best_num_topics)\n",
    "print(\"Best alpha value:\", best_alpha[0])\n",
    "print(\"Best eta value:\", best_eta[0])"
   ]
  },
  {
   "cell_type": "markdown",
   "metadata": {},
   "source": [
    "# Train_Model"
   ]
  },
  {
   "cell_type": "code",
   "execution_count": 4,
   "metadata": {},
   "outputs": [
    {
     "name": "stdout",
     "output_type": "stream",
     "text": [
      "Perplexity: -7.817743339406679\n"
     ]
    }
   ],
   "source": [
    "from gensim.models import LdaModel\n",
    "\n",
    "# Set the best parameters\n",
    "num_topics = 28\n",
    "best_alpha = 0.01\n",
    "best_eta = 0.0001\n",
    "\n",
    "# Train the LDA model with the best hyperparameters\n",
    "model = LdaModel(\n",
    "    corpus=corpus,\n",
    "    id2word=dictionary,\n",
    "    num_topics=num_topics,\n",
    ")\n",
    "\n",
    "# Compute the perplexity on the test corpus\n",
    "perplexity = model.log_perplexity(corpus)\n",
    "\n",
    "# Print the perplexity value\n",
    "print(\"Perplexity:\", perplexity)\n",
    "\n",
    "# Save the trained model\n",
    "model_path = \"lda_model\"\n",
    "model.save(model_path)"
   ]
  },
  {
   "cell_type": "markdown",
   "metadata": {},
   "source": [
    "# Coherence & Topics"
   ]
  },
  {
   "cell_type": "code",
   "execution_count": 6,
   "metadata": {},
   "outputs": [
    {
     "name": "stdout",
     "output_type": "stream",
     "text": [
      "Topic: health,peopl,award,commun,youth,hospit,young,\tCoherence: 0.54\n",
      "Topic: space,peopl,world,plastic,secur,commonwealth,\tCoherence: 0.47\n",
      "Topic: anim,woman,welfar,wast,pet,ban,protect,puppi,\tCoherence: 0.40\n",
      "Topic: fish,fisheri,river,angler,protect,angl,stock,\tCoherence: 0.71\n",
      "Topic: payment,farmer,scheme,manag,claim,grant,engla\tCoherence: 0.73\n",
      "Topic: develop,climat,fund,trade,intern,busi,global,\tCoherence: 0.60\n",
      "Topic: busi,food,industri,secretari,research,farm,pr\tCoherence: 0.58\n",
      "Topic: wast,permit,environment,oper,compani,offic,bu\tCoherence: 0.57\n",
      "Topic: flood,protect,commun,marin,risk,coastal,peopl\tCoherence: 0.60\n",
      "Topic: project,council,qualiti,plant,environment,fun\tCoherence: 0.46\n",
      "Topic: water,compani,bath,qualiti,pollut,river,engla\tCoherence: 0.64\n",
      "Topic: fish,wast,illeg,offic,crime,enforc,fisheri,po\tCoherence: 0.72\n",
      "Topic: peopl,water,mine,natur,coal,england,health,me\tCoherence: 0.43\n",
      "Topic: natur,england,speci,protect,wildlif,habitat,b\tCoherence: 0.70\n",
      "Topic: project,train,british,defenc,appoint,offic,em\tCoherence: 0.38\n",
      "Topic: flood,scheme,risk,river,commun,protect,projec\tCoherence: 0.65\n",
      "Topic: h,flood,phase,commun,test,event,project,plan,\tCoherence: 0.52\n",
      "Topic: defenc,forc,arm,ukrain,russia,osc,secur,train\tCoherence: 0.70\n",
      "Topic: climat,air,raf,water,wast,pollut,turkmenistan\tCoherence: 0.36\n",
      "Topic: defenc,technolog,dstl,innov,scienc,logist,das\tCoherence: 0.79\n",
      "Topic: school,eu,educ,build,export,food,fish,secreta\tCoherence: 0.41\n",
      "Topic: flood,tree,natur,plan,project,manag,defenc,wo\tCoherence: 0.60\n",
      "Topic: water,falkland,path,fintech,coast,sudan,engla\tCoherence: 0.30\n",
      "Topic: compani,pollut,court,innov,environment,fusion\tCoherence: 0.37\n",
      "Topic: mmo,project,medicin,fund,england,cycl,highway\tCoherence: 0.34\n",
      "Topic: food,ireland,northern,gdf,wast,consult,wale,r\tCoherence: 0.51\n",
      "Topic: child,accid,wast,resist,antibiot,time,need,pe\tCoherence: 0.36\n",
      "Topic: develop,data,child,project,technolog,innov,sy\tCoherence: 0.49\n"
     ]
    }
   ],
   "source": [
    "from Plot import print_coherence\n",
    "from gensim import corpora\n",
    "from Preprocess import preprocess\n",
    "\n",
    "df = preprocess('Data/articles.json')\n",
    "\n",
    "\n",
    "dictionary = corpora.Dictionary(df['content'])\n",
    "\n",
    "dic = dictionary\n",
    "print_coherence(dic, topic_words,df['content'])"
   ]
  },
  {
   "cell_type": "markdown",
   "metadata": {},
   "source": [
    "# Dynamic LDA"
   ]
  },
  {
   "cell_type": "code",
   "execution_count": null,
   "metadata": {},
   "outputs": [],
   "source": [
    "import os\n",
    "df_copy = df.copy()\n",
    "\n",
    "# Calculate the topic proportions for each document\n",
    "topic_proportions = model.get_document_topics(corpus, minimum_probability=0.0)\n",
    "\n",
    "# Add the topic proportions to the DataFrame\n",
    "for i, topic in enumerate(topic_words):\n",
    "    topic_name = str(','.join(topic[:4]))\n",
    "    df_copy[topic_name] = [doc_topic[i][1] for doc_topic in topic_proportions]\n",
    "    \n",
    "topic_means = df_copy.groupby('year-month').mean()\n",
    "\n",
    "plot_df(topic_means, 'LDA', span_size=7, add_error_bars=True)\n"
   ]
  }
 ],
 "metadata": {
  "kernelspec": {
   "display_name": "Python [conda env:Python3] *",
   "language": "python",
   "name": "conda-env-Python3-py"
  },
  "language_info": {
   "codemirror_mode": {
    "name": "ipython",
    "version": 3
   },
   "file_extension": ".py",
   "mimetype": "text/x-python",
   "name": "python",
   "nbconvert_exporter": "python",
   "pygments_lexer": "ipython3",
   "version": "3.9.15"
  }
 },
 "nbformat": 4,
 "nbformat_minor": 2
}
