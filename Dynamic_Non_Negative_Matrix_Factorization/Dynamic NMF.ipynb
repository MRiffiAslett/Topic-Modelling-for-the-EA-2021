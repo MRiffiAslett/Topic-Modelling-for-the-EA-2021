{
 "cells": [
  {
   "cell_type": "markdown",
   "metadata": {},
   "source": [
    "# Non  Negative matrix Factorization"
   ]
  },
  {
   "cell_type": "code",
   "execution_count": null,
   "metadata": {
    "scrolled": true
   },
   "outputs": [],
   "source": [
    "import os\n",
    "import sys\n",
    "import re\n",
    "\n",
    "parent_directory = os.path.abspath('..')\n",
    "sys.path.append(parent_directory)\n",
    "\n",
    "from gensim.test.utils import common_texts\n",
    "from gensim.corpora.dictionary import Dictionary\n",
    "from Preprocess import preprocess\n",
    "from Plot import plot_df\n",
    "from gensim.models import Nmf\n",
    "\n",
    "\n",
    "# Run the preprocessing \n",
    "df= preprocess('Data/articles.json')\n",
    "\n",
    "# Create a dictionary from the tokenized documents\n",
    "dictionary = Dictionary(df['content'])#\n",
    "\n",
    "# Run the dictionary on the corpus to get a BOW representation of the data\n",
    "common_corpus = [dictionary.doc2bow(text) for text in df['content']]"
   ]
  },
  {
   "cell_type": "markdown",
   "metadata": {},
   "source": [
    "# Hyperparameter Tuning"
   ]
  },
  {
   "cell_type": "code",
   "execution_count": 1,
   "metadata": {},
   "outputs": [
    {
     "name": "stdout",
     "output_type": "stream",
     "text": [
      "Number of topics: 28\n",
      "Kappa: 1\n",
      "Evaluation interval: 2\n"
     ]
    }
   ],
   "source": [
    "from itertools import product\n",
    "from gensim.models import Nmf\n",
    "from gensim.corpora import Dictionary\n",
    "from gensim.models.coherencemodel import CoherenceModel\n",
    "from Preprocess import preprocess\n",
    "\n",
    "\n",
    "# Define the parameter grid\n",
    "param_grid = {\n",
    "    'num_topics': [5, 10, 20, 28],  # Number of topics\n",
    "    'kappa': [0.01, 0.1, 0.5],  # Training step size\n",
    "    'eval_every': [2, 5, 10]  # Evaluation interval\n",
    "}\n",
    "\n",
    "# Perform grid search\n",
    "best_score = float('-inf')\n",
    "best_model = None\n",
    "\n",
    "for params in product(*param_grid.values()):\n",
    "    kwargs = dict(zip(param_grid.keys(), params))\n",
    "    nmf = Nmf(common_corpus, **kwargs)\n",
    "    coherence_model = CoherenceModel(model=nmf, texts=df['content'], dictionary=dictionary, coherence='c_v')\n",
    "    coherence_score = coherence_model.get_coherence()\n",
    "    if coherence_score > best_score:\n",
    "        best_score = coherence_score\n",
    "        best_model = nmf\n",
    "\n",
    "print(\"Number of topics:\", best_model.num_topics)\n",
    "print(\"Kappa:\", best_model.kappa)\n",
    "print(\"Evaluation interval:\", best_model.eval_every)"
   ]
  },
  {
   "cell_type": "markdown",
   "metadata": {},
   "source": [
    "# Train model"
   ]
  },
  {
   "cell_type": "code",
   "execution_count": null,
   "metadata": {},
   "outputs": [],
   "source": [
    "import re\n",
    "from gensim.models.nmf import Nmf\n",
    "\n",
    "Num_topics = 28\n",
    "\n",
    "# Creating an instance of the NMF model\n",
    "nmf = Nmf(common_corpus, num_topics=Num_topics, kappa=1, eval_every=3)\n",
    "\n",
    "# Getting the topics using the get_topics() method\n",
    "topics = nmf.print_topics(num_topics=40, num_words=10)\n",
    "\n",
    "# Function to extract integer values\n",
    "def extract_values(topic):\n",
    "    # We're using a regex that matches digits inside the quotes\n",
    "    values = re.findall(r'\"(\\d+)\"', topic)\n",
    "    return [dictionary[int(value)] for value in values]\n",
    "\n",
    "# Applying the function to your data\n",
    "result = [extract_values(topic[1]) for topic in topics]\n",
    "nmf.save('nmf_model')"
   ]
  },
  {
   "cell_type": "markdown",
   "metadata": {},
   "source": [
    "# Coherence"
   ]
  },
  {
   "cell_type": "code",
   "execution_count": 44,
   "metadata": {},
   "outputs": [
    {
     "name": "stdout",
     "output_type": "stream",
     "text": [
      "Topic: natur,england,work,habitat,local,site,protect\tCoherence: 0.46\n",
      "Topic: zone,premis,surveil,near,km,aiv,control,bird,\tCoherence: 0.82\n",
      "Topic: health,research,use,data,public,uk,care,innov\tCoherence: 0.40\n",
      "Topic: uk,govern,busi,trade,state,industri,support,s\tCoherence: 0.50\n",
      "Topic: climat,uk,global,countri,cop,develop,intern,w\tCoherence: 0.72\n",
      "Topic: flood,work,defenc,busi,scheme,resili,invest,c\tCoherence: 0.62\n",
      "Topic: fish,river,fisheri,licenc,climat,stock,regul,\tCoherence: 0.64\n",
      "Topic: agenc,environ,use,water,river,improv,open,sha\tCoherence: 0.42\n",
      "Topic: need,work,year,farmer,make,farm,also,want,bus\tCoherence: 0.50\n",
      "Topic: flood,risk,agenc,environ,commun,local,govern,\tCoherence: 0.48\n",
      "Topic: water,compani,bath,qualiti,year,pollut,improv\tCoherence: 0.53\n",
      "Topic: project,fund,commun,technolog,research,suppor\tCoherence: 0.52\n",
      "Topic: environ,busi,use,report,project,local,agenc,l\tCoherence: 0.44\n",
      "Topic: wast,environ,agenc,site,environment,illeg,cri\tCoherence: 0.52\n",
      "Topic: govern,servic,local,improv,support,use,work,l\tCoherence: 0.56\n",
      "Topic: food,river,work,salmon,product,use,inform,cra\tCoherence: 0.36\n",
      "Topic: food,natur,farmer,farm,support,england,secret\tCoherence: 0.59\n",
      "Topic: use,live,open,share,like,nation,inform,conten\tCoherence: 0.85\n",
      "Topic: weather,cold,warn,keep,peopl,salmon,england,r\tCoherence: 0.54\n",
      "Topic: licenc,use,fish,regul,illeg,site,agenc,report\tCoherence: 0.56\n",
      "Topic: england,home,year,peopl,make,public,tree,part\tCoherence: 0.43\n",
      "Topic: govern,scheme,plan,environ,use,plastic,develo\tCoherence: 0.34\n",
      "Topic: air,space,qualiti,citi,peopl,local,industri,r\tCoherence: 0.44\n",
      "Topic: weather,cold,fish,offic,england,keep,east,phe\tCoherence: 0.54\n",
      "Topic: environ,environment,peopl,govern,natur,health\tCoherence: 0.40\n",
      "Topic: improv,open,share,govern,work,use,live,local,\tCoherence: 0.47\n",
      "Topic: protect,zone,water,activ,follow,area,near,pre\tCoherence: 0.53\n",
      "Topic: fish,use,agenc,plastic,fisheri,live,scheme,sh\tCoherence: 0.35\n"
     ]
    }
   ],
   "source": [
    "from Plot import print_coherence\n",
    "\n",
    "nmf_model = Nmf.load('nmf_model')\n",
    "\n",
    "print_coherence(dictionary, result,df['content'])"
   ]
  },
  {
   "cell_type": "markdown",
   "metadata": {},
   "source": [
    "# Dynamic NMF"
   ]
  },
  {
   "cell_type": "code",
   "execution_count": 47,
   "metadata": {},
   "outputs": [],
   "source": [
    "topic_proportions = nmf.get_document_topics(common_corpus, minimum_probability=None, normalize=None )\n",
    "topic_proportions = list(topic_proportions)\n",
    "\n",
    "def Check_sublists(proportions, x):\n",
    "# iterating over each sublist\n",
    "    for sublist in proportions:\n",
    "        indices = set(x[0] for x in sublist)  # set of indices in current sublist\n",
    "        for i in range(x):  # assuming indices 0-4\n",
    "            if i not in indices:\n",
    "                # find the position to insert the missing tuple\n",
    "                position = len([x for x in sublist if x[0] < i])\n",
    "                sublist.insert(position, (i, 0))\n",
    "Check_sublists(topic_proportions, Num_topics)"
   ]
  },
  {
   "cell_type": "code",
   "execution_count": null,
   "metadata": {},
   "outputs": [],
   "source": [
    "df_copy = df.copy()\n",
    "# Calculate the topic proportions for each document\n",
    "# Add the topic proportions to the DataFrame\n",
    "for i, topic in enumerate(result):\n",
    "    topic_name = str(','.join(topic[:8]))\n",
    "    df_copy[topic_name] = [doc_topic[i][1] for doc_topic in topic_proportions]\n",
    "\n",
    "topic_means = df_copy.groupby('year-month').mean()\n",
    "\n",
    "plot_df(topic_means, 'NMF', add_error_bars=False)"
   ]
  }
 ],
 "metadata": {
  "kernelspec": {
   "display_name": "Python 3",
   "language": "python",
   "name": "python3"
  },
  "language_info": {
   "codemirror_mode": {
    "name": "ipython",
    "version": 3
   },
   "file_extension": ".py",
   "mimetype": "text/x-python",
   "name": "python",
   "nbconvert_exporter": "python",
   "pygments_lexer": "ipython3",
   "version": "3.10.11"
  }
 },
 "nbformat": 4,
 "nbformat_minor": 2
}
